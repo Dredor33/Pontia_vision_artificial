import json
import pandas as pd
import numpy as np

# Cargar JSON con lectura manual subiendo el archivo a colab
with open("/content/info_lote.json", "r", encoding="utf-8") as file:
    data = json.load(file)  # Carga el JSON como un diccionario

# Convertir el JSON a una lista de diccionarios con la clave como identificador
rows = []
for key, value_list in data.items():
    for item in value_list:
        item["identificador"] = key  # Agregar la clave como columna
        rows.append(item)

# Crear un DataFrame
df_info_lote = pd.DataFrame(rows)

# Mostrar primeras filas
df_info_lote.head()

# se me ha redondeado el coste_inicial
pd.set_option("display.float_format", lambda x: f"{x:.16f}")
df_info_lote.head()
# vale, no, solo que por defecto no lo muestra

df_info_lote.shape
# coinciden las filas con la cantidad de imagenes

df_info_lote.info()

df_info_lote.describe(include = "all")
# Tenemos algunas imagenes que se repiten, cuando las revisé hay algunas con el mismo nombre
# Hay variacion entre los t_id únicos y de identificador
# Hay 2011 Nan en coste inicial, habría que estudiarlos, son muchos, con paciencia se podría
# ver imagen a imagen.
# Por último hay 35 marcas. Veamos a ver cuales son

df_info_lote["marca"].sort_values().unique()
# vale, todas son claramente diferentes y unicas, llevan tilde algunas que se le va a hacer

# Cargar JSON con lectura manual subiendo el archivo a colab
with open("/content/lotes.json", "r", encoding="utf-8") as file:
    data = json.load(file)  # Carga el JSON como un diccionario

df_lotes = pd.DataFrame(list(data.items()), columns=["t_id", "identificador"])
df_lotes.head()

df_lotes.info()

df_lotes.describe()
# hay los mismos t_id único y de identificadorfes que en info_lote
# pero aquí el identificador solo se repité dos como mucho

# Cargar el archivo JSON
with open("/content/proveedores.json", "r", encoding="utf-8") as file:
    data = json.load(file)

# Convertir JSON en una lista de diccionarios
rows = []
for proveedor, items in data.items():
    for item in items:
        item["proveedor"] = proveedor  # Agregar la clave como columna
        rows.append(item)

# Crear un DataFrame
df_proveedores = pd.DataFrame(rows)

# Mostrar primeras filas
df_proveedores.head()

df_proveedores.info()

df_proveedores.describe()
# t:id coincide con info_lote, proveedor difiere de marca de info_lote
# Tienen la totalidad de las imagenes

# Cargar el archivo JSON
with open("/content/proveedores-clientes.json", "r", encoding="utf-8") as file:
    data = json.load(file)

# Convertir JSON en una lista de diccionarios
rows = []
for proveedor, items in data.items():
    for item in items:
        t_id, tienda = item  # Extraer nombre de imagen y tienda
        rows.append({"proveedor": proveedor, "t_id": t_id, "tienda": tienda})

# Crear un DataFrame
df_proveedores_clientes = pd.DataFrame(rows)

# Mostrar primeras filas
df_proveedores_clientes.head()

df_proveedores_clientes.describe()
## ya con esta queda claro que para unir las tablas se hará sobre t_id principalmente

# Cargar el archivo JSON
with open("/content/tipo.json", "r", encoding="utf-8") as file:
    data = json.load(file)

# Convertir JSON en una lista de diccionarios
rows = []
for tipo, items in data.items():
    for item in items:
        item["tipo"] = tipo  # Agregar la clave como columna (por si no estuviera)
        rows.append(item)

# Crear un DataFrame
df_tipo = pd.DataFrame(rows)

# Mostrar primeras filas
df_tipo.head()

df_tipo.info()

df_tipo.describe()

df_tipo.describe("object")
# no me deja ver, probemos con el primerop

df_tipo["t_id"].describe()

df_tipo["tipo"].describe()

df_tipo["tipo"].sort_values().unique()
# muskmelon está en minuscula cuando el resto están capitalizados

# Cargar el archivo JSON
with open("/content/venta_en_cliente.json", "r", encoding="utf-8") as file:
    data = json.load(file)

# Convertir JSON en una lista de diccionarios
rows = []
for tienda, items in data.items():
    for item in items:
        item["tienda"] = tienda  # Agregar la tienda como columna
        rows.append(item)

# Crear un DataFrame
df_venta_en_cliente = pd.DataFrame(rows)

# Mostrar primeras filas
df_venta_en_cliente.head()

df_venta_en_cliente.info()
# el tiempo de venta habrá que modificarlo a int

df_venta_en_cliente.describe()
# no debería haber tiempo_venta negativo, salvo que se hagan reservas
# no puede haber peso negativo, incluso estando la bandeja vacia, hay casos, debería ser 0

df_venta_en_cliente[["t_id", "tienda"]].describe()
# t_id coincide con el resto de archivos y tienda coincide con tienda de proveedores_clientes

